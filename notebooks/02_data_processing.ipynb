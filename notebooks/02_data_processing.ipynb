{
 "cells": [
  {
   "cell_type": "markdown",
   "metadata": {},
   "source": [
    "## Data Processing\n",
    "\n",
    "###  purpose: \n",
    "This notebook is focused on cleaning and preparing raw data for further analysis and modeling. The raw data originates from the data_task.xlsx file and includes the following datasets:\n",
    "\n",
    "order_numbers: Records the number of orders placed and their corresponding dates.\n",
    "transaction_data: Contains indices for total spending and weekly active users.\n",
    "reported_data: Aggregated revenue information for specific time periods."
   ]
  },
  {
   "cell_type": "markdown",
   "metadata": {},
   "source": [
    "Clean and process the data, of applying the DataProcessor class \n"
   ]
  },
  {
   "cell_type": "markdown",
   "metadata": {},
   "source": [
    "### import and set up\n",
    " "
   ]
  },
  {
   "cell_type": "code",
   "execution_count": 1,
   "metadata": {},
   "outputs": [],
   "source": [
    "import pandas as pd\n",
    "import os\n",
    "\n",
    "from pathlib import Path\n",
    "\n",
    "raw_path = \"../data/raw/data_task.xlsx\"\n",
    "processed_path = \"../data/processed/\"\n",
    "Path(processed_path).mkdir(parents=True, exist_ok=True)  # Ensure directory exists\n"
   ]
  },
  {
   "cell_type": "markdown",
   "metadata": {},
   "source": [
    "### Load Raw Data"
   ]
  },
  {
   "cell_type": "code",
   "execution_count": 2,
   "metadata": {},
   "outputs": [
    {
     "data": {
      "text/html": [
       "<div>\n",
       "<style scoped>\n",
       "    .dataframe tbody tr th:only-of-type {\n",
       "        vertical-align: middle;\n",
       "    }\n",
       "\n",
       "    .dataframe tbody tr th {\n",
       "        vertical-align: top;\n",
       "    }\n",
       "\n",
       "    .dataframe thead th {\n",
       "        text-align: right;\n",
       "    }\n",
       "</style>\n",
       "<table border=\"1\" class=\"dataframe\">\n",
       "  <thead>\n",
       "    <tr style=\"text-align: right;\">\n",
       "      <th></th>\n",
       "      <th>date</th>\n",
       "      <th>order_number</th>\n",
       "    </tr>\n",
       "  </thead>\n",
       "  <tbody>\n",
       "    <tr>\n",
       "      <th>0</th>\n",
       "      <td>2018-01-07</td>\n",
       "      <td>33841906</td>\n",
       "    </tr>\n",
       "    <tr>\n",
       "      <th>1</th>\n",
       "      <td>2018-01-22</td>\n",
       "      <td>34008921</td>\n",
       "    </tr>\n",
       "    <tr>\n",
       "      <th>2</th>\n",
       "      <td>2018-01-25</td>\n",
       "      <td>34397468</td>\n",
       "    </tr>\n",
       "    <tr>\n",
       "      <th>3</th>\n",
       "      <td>2018-02-06</td>\n",
       "      <td>34434432</td>\n",
       "    </tr>\n",
       "    <tr>\n",
       "      <th>4</th>\n",
       "      <td>2018-02-08</td>\n",
       "      <td>34579365</td>\n",
       "    </tr>\n",
       "  </tbody>\n",
       "</table>\n",
       "</div>"
      ],
      "text/plain": [
       "        date  order_number\n",
       "0 2018-01-07      33841906\n",
       "1 2018-01-22      34008921\n",
       "2 2018-01-25      34397468\n",
       "3 2018-02-06      34434432\n",
       "4 2018-02-08      34579365"
      ]
     },
     "execution_count": 2,
     "metadata": {},
     "output_type": "execute_result"
    }
   ],
   "source": [
    "df_orders = pd.read_excel(raw_path, sheet_name=\"order_numbers\")\n",
    "df_transactions = pd.read_excel(raw_path, sheet_name=\"transaction_data\")\n",
    "df_reported = pd.read_excel(raw_path, sheet_name=\"reported_data\")\n",
    "\n",
    "df_orders.head()\n"
   ]
  },
  {
   "cell_type": "markdown",
   "metadata": {},
   "source": [
    " ### Define and Apply Cleaning Functions"
   ]
  },
  {
   "cell_type": "markdown",
   "metadata": {},
   "source": [
    "The original data contained inconsistencies and errors that were corrected through a cleaning process. This included removing out-of-range values ​​in order_number, converting dates, and standardizing the column format as period."
   ]
  },
  {
   "cell_type": "markdown",
   "metadata": {},
   "source": [
    "Some functions where created :\n",
    "\n",
    "\n",
    "clean_order_numbers ensures chronological order and removes invalid order_number entries.\n",
    "\n",
    "clean_transaction_data standardizes date formatting.\n",
    "\n",
    "clean_reported_data removes spaces in the period column and converts dates."
   ]
  },
  {
   "cell_type": "code",
   "execution_count": 3,
   "metadata": {},
   "outputs": [],
   "source": [
    "def clean_order_numbers(df_orders):\n",
    "    df_orders = df_orders.copy()\n",
    "    df_orders['date'] = pd.to_datetime(df_orders['date'])\n",
    "    df_orders = df_orders.sort_values(by='date')\n",
    "    df_orders['order_diff'] = df_orders['order_number'].diff()\n",
    "    df_orders = df_orders[df_orders['order_diff'] >= 0]\n",
    "    df_orders = df_orders.drop(columns=['order_diff'])\n",
    "    return df_orders\n",
    "\n",
    "def clean_transaction_data(df_transactions):\n",
    "    df_transactions = df_transactions.copy()\n",
    "    df_transactions['date'] = pd.to_datetime(df_transactions['date'])\n",
    "    return df_transactions\n",
    "\n",
    "def clean_reported_data(df_reported):\n",
    "    df_reported = df_reported.copy()\n",
    "    df_reported['start_date'] = pd.to_datetime(df_reported['start_date'])\n",
    "    df_reported['end_date'] = pd.to_datetime(df_reported['end_date'])\n",
    "    df_reported['period'] = df_reported['period'].str.replace(\" \", \"\", regex=False)\n",
    "    return df_reported\n"
   ]
  },
  {
   "cell_type": "code",
   "execution_count": 5,
   "metadata": {},
   "outputs": [],
   "source": [
    "df_orders_clean = clean_order_numbers(df_orders)\n",
    "df_transactions_clean = clean_transaction_data(df_transactions)\n",
    "df_reported_clean = clean_reported_data(df_reported)\n"
   ]
  },
  {
   "cell_type": "markdown",
   "metadata": {},
   "source": [
    "### Save the Cleaned Data"
   ]
  },
  {
   "cell_type": "code",
   "execution_count": 7,
   "metadata": {},
   "outputs": [
    {
     "name": "stdout",
     "output_type": "stream",
     "text": [
      "Cleaned data saved \n"
     ]
    }
   ],
   "source": [
    "df_orders_clean.to_csv(os.path.join(processed_path, \"orders_cleaned.csv\"), index=False)\n",
    "df_transactions_clean.to_csv(os.path.join(processed_path, \"transactions_cleaned.csv\"), index=False)\n",
    "df_reported_clean.to_csv(os.path.join(processed_path, \"reported_cleaned.csv\"), index=False)\n",
    "\n",
    "print(\"Cleaned data saved \")\n"
   ]
  },
  {
   "cell_type": "markdown",
   "metadata": {},
   "source": [
    "Cleaned data is saved in the processed/ directory as:\n",
    "- orders_cleaned.csv\n",
    "- transactions_cleaned.csv\n",
    "- reported_cleaned.csv\n"
   ]
  }
 ],
 "metadata": {
  "kernelspec": {
   "display_name": "venv",
   "language": "python",
   "name": "python3"
  },
  "language_info": {
   "codemirror_mode": {
    "name": "ipython",
    "version": 3
   },
   "file_extension": ".py",
   "mimetype": "text/x-python",
   "name": "python",
   "nbconvert_exporter": "python",
   "pygments_lexer": "ipython3",
   "version": "3.10.4"
  }
 },
 "nbformat": 4,
 "nbformat_minor": 2
}
