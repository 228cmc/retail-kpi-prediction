{
 "cells": [
  {
   "cell_type": "markdown",
   "metadata": {},
   "source": [
    "This notebook performs feature engineering and model training.\n",
    "\n"
   ]
  },
  {
   "cell_type": "markdown",
   "metadata": {},
   "source": [
    "Aggregating daily data to a quarterly level and creating new features (such as spend_per_user) improved the quality of inputs to the model.\n",
    "\n",
    "\n",
    "This approach reduces noise in the data and allows for more robust analysis of trends at the quarterly level.\n",
    "\n",
    "\n",
    "The normalization of the indices allows a more effective comparison between different quarters."
   ]
  },
  {
   "cell_type": "markdown",
   "metadata": {},
   "source": [
    "The linear regression was picked above other methods because of the small amount of data and also to avoid overfitting\n"
   ]
  },
  {
   "cell_type": "markdown",
   "metadata": {},
   "source": []
  },
  {
   "cell_type": "markdown",
   "metadata": {},
   "source": [
    "Import and setup"
   ]
  },
  {
   "cell_type": "code",
   "execution_count": 5,
   "metadata": {},
   "outputs": [],
   "source": [
    "import os\n",
    "import pandas as pd\n",
    "import numpy as np\n",
    "from sklearn.linear_model import LinearRegression\n",
    "from sklearn.model_selection import train_test_split\n",
    "from sklearn.metrics import r2_score, mean_absolute_percentage_error\n",
    "import joblib\n",
    "\n",
    "# Define paths\n",
    "cleaned_data_path = \"../data/processed/\"\n",
    "features_output_path = \"../data/processed/\"\n",
    "model_output_path = \"../models/\"\n",
    "os.makedirs(model_output_path, exist_ok=True)\n",
    "\n"
   ]
  },
  {
   "cell_type": "code",
   "execution_count": 6,
   "metadata": {},
   "outputs": [],
   "source": [
    "def aggregate_to_quarterly(orders, transactions):\n",
    "    orders[\"quarter\"] = orders[\"date\"].dt.to_period(\"Q\")\n",
    "    transactions[\"quarter\"] = transactions[\"date\"].dt.to_period(\"Q\")\n",
    "\n",
    "    orders_agg = orders.groupby(\"quarter\")[\"order_number\"].count().reset_index()\n",
    "    orders_agg.rename(columns={\"order_number\": \"total_orders\"}, inplace=True)\n",
    "\n",
    "    transactions_agg = transactions.groupby(\"quarter\").agg({\n",
    "        \"total_spend_index\": \"mean\",\n",
    "        \"weekly_active_users_index\": \"mean\"\n",
    "    }).reset_index()\n",
    "\n",
    "    quarterly_data = pd.merge(orders_agg, transactions_agg, on=\"quarter\", how=\"left\")\n",
    "    return quarterly_data\n",
    "\n",
    "def normalize_features(quarterly_data):\n",
    "    quarterly_data[\"spend_per_user\"] = (\n",
    "        quarterly_data[\"total_spend_index\"] / quarterly_data[\"weekly_active_users_index\"]\n",
    "    )\n",
    "    return quarterly_data\n"
   ]
  },
  {
   "cell_type": "code",
   "execution_count": 9,
   "metadata": {},
   "outputs": [
    {
     "data": {
      "text/html": [
       "<div>\n",
       "<style scoped>\n",
       "    .dataframe tbody tr th:only-of-type {\n",
       "        vertical-align: middle;\n",
       "    }\n",
       "\n",
       "    .dataframe tbody tr th {\n",
       "        vertical-align: top;\n",
       "    }\n",
       "\n",
       "    .dataframe thead th {\n",
       "        text-align: right;\n",
       "    }\n",
       "</style>\n",
       "<table border=\"1\" class=\"dataframe\">\n",
       "  <thead>\n",
       "    <tr style=\"text-align: right;\">\n",
       "      <th></th>\n",
       "      <th>quarter</th>\n",
       "      <th>total_orders</th>\n",
       "      <th>total_spend_index</th>\n",
       "      <th>weekly_active_users_index</th>\n",
       "      <th>spend_per_user</th>\n",
       "    </tr>\n",
       "  </thead>\n",
       "  <tbody>\n",
       "    <tr>\n",
       "      <th>0</th>\n",
       "      <td>2018Q1</td>\n",
       "      <td>12</td>\n",
       "      <td>1.020328</td>\n",
       "      <td>2.212705</td>\n",
       "      <td>0.461122</td>\n",
       "    </tr>\n",
       "    <tr>\n",
       "      <th>1</th>\n",
       "      <td>2018Q2</td>\n",
       "      <td>25</td>\n",
       "      <td>3.907097</td>\n",
       "      <td>5.081092</td>\n",
       "      <td>0.768948</td>\n",
       "    </tr>\n",
       "    <tr>\n",
       "      <th>2</th>\n",
       "      <td>2018Q3</td>\n",
       "      <td>23</td>\n",
       "      <td>9.063225</td>\n",
       "      <td>12.991272</td>\n",
       "      <td>0.697640</td>\n",
       "    </tr>\n",
       "    <tr>\n",
       "      <th>3</th>\n",
       "      <td>2018Q4</td>\n",
       "      <td>37</td>\n",
       "      <td>15.179657</td>\n",
       "      <td>19.689239</td>\n",
       "      <td>0.770962</td>\n",
       "    </tr>\n",
       "    <tr>\n",
       "      <th>4</th>\n",
       "      <td>2019Q1</td>\n",
       "      <td>25</td>\n",
       "      <td>13.636270</td>\n",
       "      <td>25.006123</td>\n",
       "      <td>0.545317</td>\n",
       "    </tr>\n",
       "  </tbody>\n",
       "</table>\n",
       "</div>"
      ],
      "text/plain": [
       "  quarter  total_orders  total_spend_index  weekly_active_users_index  \\\n",
       "0  2018Q1            12           1.020328                   2.212705   \n",
       "1  2018Q2            25           3.907097                   5.081092   \n",
       "2  2018Q3            23           9.063225                  12.991272   \n",
       "3  2018Q4            37          15.179657                  19.689239   \n",
       "4  2019Q1            25          13.636270                  25.006123   \n",
       "\n",
       "   spend_per_user  \n",
       "0        0.461122  \n",
       "1        0.768948  \n",
       "2        0.697640  \n",
       "3        0.770962  \n",
       "4        0.545317  "
      ]
     },
     "execution_count": 9,
     "metadata": {},
     "output_type": "execute_result"
    }
   ],
   "source": [
    "orders_clean = pd.read_csv(os.path.join(cleaned_data_path, \"orders_cleaned.csv\"))\n",
    "transactions_clean = pd.read_csv(os.path.join(cleaned_data_path, \"transactions_cleaned.csv\"))\n",
    "\n",
    "orders_clean[\"date\"] = pd.to_datetime(orders_clean[\"date\"])\n",
    "transactions_clean[\"date\"] = pd.to_datetime(transactions_clean[\"date\"])\n",
    "\n",
    "quarterly_data = aggregate_to_quarterly(orders_clean, transactions_clean)\n",
    "quarterly_data = normalize_features(quarterly_data)\n",
    "\n",
    "# Save features\n",
    "quarterly_data.to_csv(os.path.join(features_output_path, \"features.csv\"), index=False)\n",
    "quarterly_data.head()\n",
    "\n"
   ]
  },
  {
   "cell_type": "code",
   "execution_count": 11,
   "metadata": {},
   "outputs": [
    {
     "data": {
      "text/html": [
       "<div>\n",
       "<style scoped>\n",
       "    .dataframe tbody tr th:only-of-type {\n",
       "        vertical-align: middle;\n",
       "    }\n",
       "\n",
       "    .dataframe tbody tr th {\n",
       "        vertical-align: top;\n",
       "    }\n",
       "\n",
       "    .dataframe thead th {\n",
       "        text-align: right;\n",
       "    }\n",
       "</style>\n",
       "<table border=\"1\" class=\"dataframe\">\n",
       "  <thead>\n",
       "    <tr style=\"text-align: right;\">\n",
       "      <th></th>\n",
       "      <th>total_orders</th>\n",
       "      <th>total_spend_index</th>\n",
       "      <th>weekly_active_users_index</th>\n",
       "      <th>spend_per_user</th>\n",
       "      <th>period</th>\n",
       "      <th>revenue_index</th>\n",
       "    </tr>\n",
       "  </thead>\n",
       "  <tbody>\n",
       "    <tr>\n",
       "      <th>0</th>\n",
       "      <td>12</td>\n",
       "      <td>1.020328</td>\n",
       "      <td>2.212705</td>\n",
       "      <td>0.461122</td>\n",
       "      <td>2018Q1</td>\n",
       "      <td>100.000000</td>\n",
       "    </tr>\n",
       "    <tr>\n",
       "      <th>1</th>\n",
       "      <td>25</td>\n",
       "      <td>3.907097</td>\n",
       "      <td>5.081092</td>\n",
       "      <td>0.768948</td>\n",
       "      <td>2018Q2</td>\n",
       "      <td>253.521127</td>\n",
       "    </tr>\n",
       "    <tr>\n",
       "      <th>2</th>\n",
       "      <td>23</td>\n",
       "      <td>9.063225</td>\n",
       "      <td>12.991272</td>\n",
       "      <td>0.697640</td>\n",
       "      <td>2018Q3</td>\n",
       "      <td>139.788732</td>\n",
       "    </tr>\n",
       "    <tr>\n",
       "      <th>3</th>\n",
       "      <td>37</td>\n",
       "      <td>15.179657</td>\n",
       "      <td>19.689239</td>\n",
       "      <td>0.770962</td>\n",
       "      <td>2018Q4</td>\n",
       "      <td>306.161972</td>\n",
       "    </tr>\n",
       "    <tr>\n",
       "      <th>4</th>\n",
       "      <td>25</td>\n",
       "      <td>13.636270</td>\n",
       "      <td>25.006123</td>\n",
       "      <td>0.545317</td>\n",
       "      <td>2019Q1</td>\n",
       "      <td>117.693662</td>\n",
       "    </tr>\n",
       "  </tbody>\n",
       "</table>\n",
       "</div>"
      ],
      "text/plain": [
       "   total_orders  total_spend_index  weekly_active_users_index  spend_per_user  \\\n",
       "0            12           1.020328                   2.212705        0.461122   \n",
       "1            25           3.907097                   5.081092        0.768948   \n",
       "2            23           9.063225                  12.991272        0.697640   \n",
       "3            37          15.179657                  19.689239        0.770962   \n",
       "4            25          13.636270                  25.006123        0.545317   \n",
       "\n",
       "   period  revenue_index  \n",
       "0  2018Q1     100.000000  \n",
       "1  2018Q2     253.521127  \n",
       "2  2018Q3     139.788732  \n",
       "3  2018Q4     306.161972  \n",
       "4  2019Q1     117.693662  "
      ]
     },
     "execution_count": 11,
     "metadata": {},
     "output_type": "execute_result"
    }
   ],
   "source": [
    "features = pd.read_csv(os.path.join(features_output_path, \"features.csv\"))\n",
    "revenue = pd.read_csv(os.path.join(cleaned_data_path, \"reported_cleaned.csv\"))\n",
    "\n",
    "# Align columns (remove spaces)\n",
    "features[\"quarter\"] = features[\"quarter\"].astype(str).str.replace(\" \", \"\", regex=False)\n",
    "revenue[\"period\"] = revenue[\"period\"].str.replace(\" \", \"\", regex=False)\n",
    "\n",
    "df = pd.merge(features, revenue, left_on=\"quarter\", right_on=\"period\", how=\"inner\")\n",
    "df.drop(columns=[\"quarter\", \"start_date\", \"end_date\"], errors=\"ignore\", inplace=True)\n",
    "\n",
    "df.head()\n",
    "\n"
   ]
  },
  {
   "cell_type": "markdown",
   "metadata": {},
   "source": [
    "A linear regression model was used to predict the revenue_index.\n",
    "\n",
    "\n",
    "The model was trained using a set of features derived from historical data, showing a good fit on the training set with a positive coefficient of determination (R²).\n",
    "\n",
    "\n",
    "The model was validated using a specific quarter (2022Q4) to avoid data leakage problems.\n"
   ]
  },
  {
   "cell_type": "code",
   "execution_count": 12,
   "metadata": {},
   "outputs": [
    {
     "name": "stdout",
     "output_type": "stream",
     "text": [
      "R² (train): 0.7943\n",
      "MAPE (test): 19.7644%\n",
      "Model saved successfully.\n"
     ]
    }
   ],
   "source": [
    "#isolate 2022Q4 as test set, rest as train set\n",
    "test = df[df[\"period\"] == \"2022Q4\"]\n",
    "train = df[df[\"period\"] != \"2022Q4\"]\n",
    "\n",
    "X_train = train.drop(columns=[\"revenue_index\", \"period\"])\n",
    "y_train = train[\"revenue_index\"]\n",
    "\n",
    "X_test = test.drop(columns=[\"revenue_index\", \"period\"])\n",
    "y_test = test[\"revenue_index\"]\n",
    "\n",
    "model = LinearRegression()\n",
    "model.fit(X_train, y_train)\n",
    "\n",
    "y_pred_train = model.predict(X_train)\n",
    "y_pred_test = model.predict(X_test)\n",
    "\n",
    "r2_train = r2_score(y_train, y_pred_train)\n",
    "mape_test = mean_absolute_percentage_error(y_test, y_pred_test)\n",
    "print(f\"R² (train): {r2_train:.4f}\")\n",
    "print(f\"MAPE (test): {mape_test:.4%}\")\n",
    "\n",
    "joblib.dump(model, os.path.join(model_output_path, \"revenue_model.pkl\"))\n",
    "print(\"Model saved successfully.\")\n"
   ]
  },
  {
   "cell_type": "markdown",
   "metadata": {},
   "source": []
  }
 ],
 "metadata": {
  "kernelspec": {
   "display_name": "venv",
   "language": "python",
   "name": "python3"
  },
  "language_info": {
   "codemirror_mode": {
    "name": "ipython",
    "version": 3
   },
   "file_extension": ".py",
   "mimetype": "text/x-python",
   "name": "python",
   "nbconvert_exporter": "python",
   "pygments_lexer": "ipython3",
   "version": "3.10.4"
  }
 },
 "nbformat": 4,
 "nbformat_minor": 2
}
