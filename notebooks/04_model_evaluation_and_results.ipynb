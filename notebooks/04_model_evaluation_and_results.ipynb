{
 "cells": [
  {
   "cell_type": "markdown",
   "metadata": {},
   "source": [
    "## Model Evaluation\n"
   ]
  },
  {
   "cell_type": "markdown",
   "metadata": {},
   "source": [
    "### Evaluate model\n"
   ]
  },
  {
   "cell_type": "markdown",
   "metadata": {},
   "source": [
    "## Purpose:\n",
    "This notebook evaluates the performance of the trained LinearRegression model. It includes:\n",
    "- Loading the test data and trained model.\n",
    "- Computing evaluation metrics (R², MAPE, etc.).\n",
    "- Analyzing residuals and feature importance.\n",
    "- Summarizing the model's effectiveness and next steps."
   ]
  },
  {
   "cell_type": "markdown",
   "metadata": {},
   "source": [
    "Imports and setup\n"
   ]
  },
  {
   "cell_type": "code",
   "execution_count": 3,
   "metadata": {},
   "outputs": [],
   "source": [
    "import os\n",
    "import pandas as pd\n",
    "import joblib\n",
    "from sklearn.metrics import r2_score, mean_absolute_error, mean_squared_error, mean_absolute_percentage_error\n",
    "import matplotlib.pyplot as plt\n",
    "import seaborn as sns\n",
    "\n",
    "# Define paths\n",
    "model_path = \"../models/revenue_model.pkl\"\n",
    "features_path = \"../data/processed/features.csv\"\n",
    "revenue_path = \"../data/processed/reported_cleaned.csv\"\n",
    "output_path = \"../reports/\"\n",
    "\n",
    "# Ensure output directory exists\n",
    "os.makedirs(output_path, exist_ok=True)\n"
   ]
  },
  {
   "cell_type": "markdown",
   "metadata": {},
   "source": [
    "## Load Data and Model"
   ]
  },
  {
   "cell_type": "code",
   "execution_count": 5,
   "metadata": {},
   "outputs": [
    {
     "data": {
      "text/html": [
       "<div>\n",
       "<style scoped>\n",
       "    .dataframe tbody tr th:only-of-type {\n",
       "        vertical-align: middle;\n",
       "    }\n",
       "\n",
       "    .dataframe tbody tr th {\n",
       "        vertical-align: top;\n",
       "    }\n",
       "\n",
       "    .dataframe thead th {\n",
       "        text-align: right;\n",
       "    }\n",
       "</style>\n",
       "<table border=\"1\" class=\"dataframe\">\n",
       "  <thead>\n",
       "    <tr style=\"text-align: right;\">\n",
       "      <th></th>\n",
       "      <th>total_orders</th>\n",
       "      <th>total_spend_index</th>\n",
       "      <th>weekly_active_users_index</th>\n",
       "      <th>spend_per_user</th>\n",
       "      <th>period</th>\n",
       "      <th>revenue_index</th>\n",
       "    </tr>\n",
       "  </thead>\n",
       "  <tbody>\n",
       "    <tr>\n",
       "      <th>0</th>\n",
       "      <td>12</td>\n",
       "      <td>1.020328</td>\n",
       "      <td>2.212705</td>\n",
       "      <td>0.461122</td>\n",
       "      <td>2018Q1</td>\n",
       "      <td>100.000000</td>\n",
       "    </tr>\n",
       "    <tr>\n",
       "      <th>1</th>\n",
       "      <td>25</td>\n",
       "      <td>3.907097</td>\n",
       "      <td>5.081092</td>\n",
       "      <td>0.768948</td>\n",
       "      <td>2018Q2</td>\n",
       "      <td>253.521127</td>\n",
       "    </tr>\n",
       "    <tr>\n",
       "      <th>2</th>\n",
       "      <td>23</td>\n",
       "      <td>9.063225</td>\n",
       "      <td>12.991272</td>\n",
       "      <td>0.697640</td>\n",
       "      <td>2018Q3</td>\n",
       "      <td>139.788732</td>\n",
       "    </tr>\n",
       "    <tr>\n",
       "      <th>3</th>\n",
       "      <td>37</td>\n",
       "      <td>15.179657</td>\n",
       "      <td>19.689239</td>\n",
       "      <td>0.770962</td>\n",
       "      <td>2018Q4</td>\n",
       "      <td>306.161972</td>\n",
       "    </tr>\n",
       "    <tr>\n",
       "      <th>4</th>\n",
       "      <td>25</td>\n",
       "      <td>13.636270</td>\n",
       "      <td>25.006123</td>\n",
       "      <td>0.545317</td>\n",
       "      <td>2019Q1</td>\n",
       "      <td>117.693662</td>\n",
       "    </tr>\n",
       "  </tbody>\n",
       "</table>\n",
       "</div>"
      ],
      "text/plain": [
       "   total_orders  total_spend_index  weekly_active_users_index  spend_per_user  \\\n",
       "0            12           1.020328                   2.212705        0.461122   \n",
       "1            25           3.907097                   5.081092        0.768948   \n",
       "2            23           9.063225                  12.991272        0.697640   \n",
       "3            37          15.179657                  19.689239        0.770962   \n",
       "4            25          13.636270                  25.006123        0.545317   \n",
       "\n",
       "   period  revenue_index  \n",
       "0  2018Q1     100.000000  \n",
       "1  2018Q2     253.521127  \n",
       "2  2018Q3     139.788732  \n",
       "3  2018Q4     306.161972  \n",
       "4  2019Q1     117.693662  "
      ]
     },
     "execution_count": 5,
     "metadata": {},
     "output_type": "execute_result"
    }
   ],
   "source": [
    "# Load features dataset\n",
    "features = pd.read_csv(features_path)\n",
    "\n",
    "# Load revenue dataset\n",
    "revenue = pd.read_csv(revenue_path)\n",
    "\n",
    "# Ensure period format matches between features and revenue\n",
    "features[\"quarter\"] = features[\"quarter\"].str.replace(\" \", \"\", regex=False)\n",
    "revenue[\"period\"] = revenue[\"period\"].str.replace(\" \", \"\", regex=False)\n",
    "\n",
    "# Merge datasets\n",
    "test_data = pd.merge(features, revenue, left_on=\"quarter\", right_on=\"period\", how=\"inner\")\n",
    "\n",
    "# Drop unnecessary columns\n",
    "test_data = test_data.drop(columns=[\"quarter\", \"start_date\", \"end_date\"], errors=\"ignore\")\n",
    "test_data.head()\n",
    "\n"
   ]
  },
  {
   "cell_type": "code",
   "execution_count": 7,
   "metadata": {},
   "outputs": [],
   "source": [
    "# Load the trained model\n",
    "if not os.path.exists(model_path):\n",
    "    raise FileNotFoundError(f\"The model file {model_path} does not exist.\")\n",
    "    \n",
    "model = joblib.load(model_path)\n"
   ]
  },
  {
   "cell_type": "markdown",
   "metadata": {},
   "source": [
    "## Evaluate model"
   ]
  },
  {
   "cell_type": "code",
   "execution_count": 8,
   "metadata": {},
   "outputs": [
    {
     "name": "stdout",
     "output_type": "stream",
     "text": [
      "R2 Score: 0.7952\n",
      "Mean Absolute Error: 50.7357\n",
      "Mean Squared Error: 3604.5861\n",
      "Mean Absolute Percentage Error: 0.2015\n"
     ]
    }
   ],
   "source": [
    "# Features used during training\n",
    "training_features = [\"total_orders\", \"total_spend_index\", \"weekly_active_users_index\", \"spend_per_user\"]\n",
    "\n",
    "# Check for missing features\n",
    "missing_features = [f for f in training_features if f not in test_data.columns]\n",
    "if missing_features:\n",
    "    raise ValueError(f\"Missing features in the test dataset: {missing_features}\")\n",
    "\n",
    "# Define X_test and y_test\n",
    "X_test = test_data[training_features]\n",
    "y_test = test_data[\"revenue_index\"]\n",
    "\n",
    "# Predictions\n",
    "y_pred = model.predict(X_test)\n",
    "\n",
    "# Evaluation Metrics\n",
    "metrics = {\n",
    "    \"R2 Score\": r2_score(y_test, y_pred),\n",
    "    \"Mean Absolute Error\": mean_absolute_error(y_test, y_pred),\n",
    "    \"Mean Squared Error\": mean_squared_error(y_test, y_pred),\n",
    "    \"Mean Absolute Percentage Error\": mean_absolute_percentage_error(y_test, y_pred)\n",
    "}\n",
    "\n",
    "# Display metrics\n",
    "for metric, value in metrics.items():\n",
    "    print(f\"{metric}: {value:.4f}\")\n",
    "\n"
   ]
  },
  {
   "cell_type": "markdown",
   "metadata": {},
   "source": [
    "## Feature Importance"
   ]
  },
  {
   "cell_type": "code",
   "execution_count": 10,
   "metadata": {},
   "outputs": [
    {
     "name": "stdout",
     "output_type": "stream",
     "text": [
      "                     Feature  Coefficient\n",
      "0               total_orders     0.668272\n",
      "1          total_spend_index     0.777118\n",
      "2  weekly_active_users_index    -1.739244\n",
      "3             spend_per_user   759.044918\n"
     ]
    }
   ],
   "source": [
    "# Extract model coefficients\n",
    "coefficients = pd.DataFrame({\n",
    "    \"Feature\": training_features,\n",
    "    \"Coefficient\": model.coef_\n",
    "})\n",
    "\n",
    "# Display coefficients\n",
    "print(coefficients)\n",
    "\n",
    "\n"
   ]
  },
  {
   "cell_type": "code",
   "execution_count": null,
   "metadata": {},
   "outputs": [],
   "source": [
    "import matplotlib.pyplot as plt\n",
    "import seaborn as sns\n",
    "from sklearn.metrics import confusion_matrix\n",
    "\n",
    "# Generate confusion matrix\n",
    "conf_matrix = confusion_matrix(y_test, y_pred_random_forest)\n",
    "\n",
    "# Plot confusion matrix\n",
    "plt.figure(figsize=(8, 6))\n",
    "sns.heatmap(conf_matrix, annot=True, fmt='d', cmap='Blues', xticklabels=['Not Fraud', 'Fraud'], yticklabels=['Not Fraud', 'Fraud'])\n",
    "plt.xlabel('Predicted')\n",
    "plt.ylabel('Actual')\n",
    "plt.title('Confusion Matrix')\n",
    "plt.show()\n"
   ]
  }
 ],
 "metadata": {
  "kernelspec": {
   "display_name": "venv",
   "language": "python",
   "name": "python3"
  },
  "language_info": {
   "codemirror_mode": {
    "name": "ipython",
    "version": 3
   },
   "file_extension": ".py",
   "mimetype": "text/x-python",
   "name": "python",
   "nbconvert_exporter": "python",
   "pygments_lexer": "ipython3",
   "version": "3.10.4"
  }
 },
 "nbformat": 4,
 "nbformat_minor": 2
}
